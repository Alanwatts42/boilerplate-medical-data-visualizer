{
 "cells": [
  {
   "cell_type": "markdown",
   "id": "29709c36-623e-4d79-88a1-3615bbb9f252",
   "metadata": {},
   "source": [
    "# Medical Data Visualizer\n",
    "\n",
    "Evan Sherwood\n",
    "\n",
    "[GitHub](https://github.com/Alanwatts42/)\n",
    "\n",
    "[LinkedIn](https://www.linkedin.com/in/evan-sherwood-3a7a9744)\n",
    "\n",
    "\n",
    "---\n"
   ]
  },
  {
   "cell_type": "markdown",
   "id": "c5080d17-8b0f-4752-99e4-21fb0db95554",
   "metadata": {},
   "source": [
    "\n",
    "## Tasks\n",
    "\n"
   ]
  },
  {
   "cell_type": "markdown",
   "id": "a5de902c-7ccf-4956-8ba4-c970fa3a35d1",
   "metadata": {},
   "source": [
    "Create a chart similar to [Figure_1](examples/Figure_1.png), where we show the counts of good and bad outcomes for the `cholesterol`, `gluc`, `alco`, `active`, and `smoke` variables for patients with `cardio=1` and `cardio=0` in different panels.\n",
    "\n",
    "Use the data to complete the following tasks in `medical_data_visualizer.py`:\n",
    "\n",
    "---\n"
   ]
  },
  {
   "cell_type": "code",
   "execution_count": 33,
   "id": "372603b1",
   "metadata": {
    "lines_to_next_cell": 2
   },
   "outputs": [],
   "source": [
    "import pandas as pd\n",
    "import seaborn as sns"
   ]
  },
  {
   "cell_type": "markdown",
   "id": "7f0c29b3-fe55-45b1-9745-d3afd331be6a",
   "metadata": {},
   "source": [
    "1) Import the data from `medical_examination.csv` and assign it to the `df` variable"
   ]
  },
  {
   "cell_type": "code",
   "execution_count": 34,
   "id": "dab3fb00",
   "metadata": {},
   "outputs": [],
   "source": [
    "# 1 - Import the data from medical_examination.csv and assign it to the df variable\n",
    "\n",
    "df = pd.read_csv('medical_examination.csv') "
   ]
  },
  {
   "cell_type": "markdown",
   "id": "c40e38a6-2bcc-4fcc-befe-282838c52d7a",
   "metadata": {},
   "source": [
    "## Add a Column\n",
    "\n",
    "Add an `overweight` column to the data. To determine if a person is overweight, first calculate their BMI by dividing their weight in kilograms by the square of their height in meters. If that value is > 25 then the person is overweight. Use the value `0`for NOT overweight and the value `1` for overweight."
   ]
  },
  {
   "cell_type": "markdown",
   "id": "70cb719d-6e08-4c0d-891b-58d426bd9222",
   "metadata": {},
   "source": [
    "2) Create the `overweight` column in the `df` variable"
   ]
  },
  {
   "cell_type": "code",
   "execution_count": 37,
   "id": "7aa42411",
   "metadata": {
    "editable": true,
    "slideshow": {
     "slide_type": ""
    },
    "tags": []
   },
   "outputs": [],
   "source": [
    "# 2 - Create the overweight column in the df variable\n",
    "df['overweight'] = (df['weight'] / (df['height'] / 100) ** 2).apply(lambda x: 1 if x > 25 else 0)"
   ]
  },
  {
   "cell_type": "markdown",
   "id": "a6fe3003-5f58-4203-b709-7386c14ad6f2",
   "metadata": {},
   "source": [
    "\n",
    "3) Normalize the data by making `0` always good and `1` always bad. If the value of `cholesterol` or `gluc` is `1`, make the value `0`. If the value is more than `1`, make the value `1`.\n",
    "\n"
   ]
  },
  {
   "cell_type": "code",
   "execution_count": 38,
   "id": "4e387d5e",
   "metadata": {
    "editable": true,
    "lines_to_next_cell": 1,
    "slideshow": {
     "slide_type": ""
    },
    "tags": []
   },
   "outputs": [],
   "source": [
    "# 3 - Normalize data by making 0 always good and 1 always bad. If the value of cholesterol or gluc is 1, set the value to 0. If the value is more than 1, set the value to 1.\n",
    "\n",
    "df['cholesterol'] = df['cholesterol'].apply(lambda x: 0 if x == 1 else 1)\n",
    "\n",
    "df['gluc'] = df['gluc'].apply(lambda x: 0 if x == 1 else 1)"
   ]
  },
  {
   "cell_type": "markdown",
   "id": "8baf39a6",
   "metadata": {},
   "source": [
    "\n",
    "## *Normalize* the Data \n",
    "> This is done by making `0` always good and `1` always bad. If the value of `cholesterol` or `gluc` is `1`, make the value `0`. If the value is more than `1`, make the value `1`.\n"
   ]
  },
  {
   "cell_type": "markdown",
   "id": "bb46966b-e0dd-4051-9ca5-f28be587748b",
   "metadata": {
    "editable": true,
    "slideshow": {
     "slide_type": ""
    },
    "tags": []
   },
   "source": [
    "\n",
    "## *Convert* the Data\n",
    "> Convert it into long format and create a chart that shows the value counts of the categorical features using `seaborn`'s `catplot()`. The dataset should be split by `Cardio` so there is one chart for each `cardio` value. The chart should look like `examples/Figure_1.png`.\n"
   ]
  },
  {
   "cell_type": "markdown",
   "id": "33a3a120-bb89-4b2d-9bcf-70d2824fbbc0",
   "metadata": {},
   "source": [
    "\n",
    "## *Clean* the data \n",
    "\n",
    "\n",
    "Filter out the following patient segments that represent incorrect data:\n",
    "\n",
    "\n",
    "* Diastolic pressure is higher than systolic\n",
    "\t> Keep the correct data with:\n",
    "```python\n",
    "\tdf['ap_lo'] <= df['ap_hi']\n",
    "```\n",
    " \n",
    "\n",
    "* Height < 2.5th percentile\n",
    "\t> Keep the correct data with:\n",
    "```python\n",
    "\tdf['height'] >= df['height'].quantile(0.025)\n",
    "```\n",
    "\n",
    "* Height > the 97.5th percentile\n",
    "\n",
    "* Weight < the 2.5th percentile\n",
    "\n",
    "* Weight > the 97.5th percentile\n"
   ]
  },
  {
   "cell_type": "markdown",
   "id": "a4a90d17-2379-4f16-bd58-691d89b1a3b3",
   "metadata": {},
   "source": [
    "\n",
    "\n",
    "4) Draw the Categorical Plot in the `draw_cat_plot` function\n",
    "\n",
    "5) Create a DataFrame for the cat plot using `pd.melt` with values from `cholesterol`, `gluc`, `smoke`, `alco`, `active`, and `overweight` in the `df_cat` variable.\n",
    "\n",
    "6) Group and reformat the data in `df_cat` to split it by `cardio`. Show the counts of each feature. You will have to rename one of the columns for the `catplot` to work correctly.\n",
    "\n",
    "7) Convert the data into `long` format and create a chart that shows the value counts of the categorical features using the following method provided by the seaborn library import : `sns.catplot()`\n",
    "\n",
    "8) Get the figure for the output and store it in the `fig` variable\n",
    "\n",
    "9) Do not modify the next two lines:\n",
    "```python\n",
    "fig.savefig('catplot.png')\n",
    "return fig\n",
    "```\n",
    "\n"
   ]
  },
  {
   "cell_type": "code",
   "execution_count": 29,
   "id": "2595ad14",
   "metadata": {},
   "outputs": [],
   "source": [
    "# 4 - Draw the Categorical Plot in the draw_cat_plot function\n",
    "def draw_cat_plot():\n",
    "      \n",
    "    # 5 - Create a DataFrame for the cat plot using pd.melt with values from cholesterol, gluc, smoke, alco, active, and overweight in the df_cat variable.\n",
    "    df_cat = pd.melt(data, id_vars = ['cardio'], value_vars = ['cholesterol', 'gluc', 'smoke', 'alco', 'active', 'overweight'])\n",
    "\n",
    "    # 6 - Group and reformat the data to split it by 'cardio'. Show the counts of each feature. You will have to rename one of the columns for the catplot to work correctly.\n",
    "    df_cat = df_cat.groupby(['cardio', 'variable', 'value'], as_index = False)\n",
    "\n",
    "                                \n",
    "    # 7 - Draw the catplot with 'sns.catplot()'\n",
    "    sns.catplot(data = df_cat, x = 'variable', y = None, hue = 'value', col = 'cardio', kind = 'bar')\n",
    "\n",
    "\n",
    "    # 8 - Get the figure for the output\n",
    "    fig = None\n",
    "\n",
    "    # 9 - Do not modify the next two lines\n",
    "    fig.savefig('catplot.png')\n",
    "    return fig"
   ]
  },
  {
   "cell_type": "markdown",
   "id": "5e843a1e-49d3-4f3a-b86f-b1a5c9ec6707",
   "metadata": {},
   "source": [
    "\n",
    "Create a correlation matrix using the dataset. Plot the correlation matrix using `seaborn`'s `heatmap()`. Mask the upper triangle. The chart should look like `examples/Figure_2.png`.\n",
    "\n",
    "10) Draw the Heat Map in the `draw_heat_map` function\n",
    "\n",
    "11) Clean the data in the `df_heat` variable by filtering out the following patient segments that represent incorrect data:\n",
    "\n",
    "\t* height is less than the 2.5th percentile (Keep the correct data with `(df['height'] >= df['height'].quantile(0.025))`)\n",
    "\t    -   height is more than the 97.5th percentile\n",
    "\t    -   weight is less than the 2.5th percentile\n",
    "\t    -   weight is more than the 97.5th percentile\n",
    "\n",
    "12) Calculate the correlation matrix and store it in the `corr` variable\n",
    "\n",
    "13) Generate a mask for the upper triangle and store it in the `mask` variable\n",
    "\n",
    "14) Set up the `matplotlib` figure\n",
    "\n",
    "15) Plot the correlation matrix using the method provided by the `seaborn` library import: `sns.heatmap()`\n",
    "\n",
    "16) Do not modify the next two lines:\n",
    "``` python\n",
    "fig.savefig('heatmap.png')\n",
    "return fig\n",
    "```\n"
   ]
  },
  {
   "cell_type": "code",
   "execution_count": 30,
   "id": "9aa68ce8",
   "metadata": {},
   "outputs": [],
   "source": [
    "\n",
    "# 10 - Draw the Heat Map in the draw_heat_map function\n",
    "def draw_heat_map():\n",
    "    \n",
    "    # 11 - Clean the data\n",
    "    df_heat = df[(df['ap_lo'] <= df['ap_hi']) & (df['height'] >= df['height'].quantile(0.025))]\n",
    "\n",
    "    # 12 - Calculate the correlation matrix\n",
    "    corr = df_heat.corr()\n",
    "\n",
    "    # 13 - Generate a mask for the upper triangle\n",
    "    mask = np.triu(corr)\n",
    "\n",
    "    # 14 - Set up the matplotlib figure\n",
    "    fig, ax = None\n",
    "\n",
    "    # 15 - Draw the heatmap with 'sns.heatmap()'\n",
    "\n",
    "    # 16 - Do not modify the next two lines\n",
    "    fig.savefig('heatmap.png')\n",
    "    return fig"
   ]
  },
  {
   "cell_type": "markdown",
   "id": "9a99a1b4-f576-49f1-938b-f04836857e1a",
   "metadata": {},
   "source": [
    "\n",
    "## Reminders\n",
    "\n",
    "- *Any time a variable is set to `None`, make sure to set it to the correct code.*\n",
    "- *Unit tests are written for you under `test_module.py`.*\n"
   ]
  },
  {
   "cell_type": "markdown",
   "id": "e10778ba-41ea-48fe-ad33-a199465c69da",
   "metadata": {},
   "source": [
    "## Development\n",
    "\n",
    "* Write your code in `medical_data_visualizer.py`. For development, you can use `main.py` to test your code.\n",
    "\n",
    "## Testing\n",
    "\n",
    "* The unit tests for this project are in `test_module.py`. We imported the tests from `test_module.py` to `main.py` for your convenience.\n",
    "\n",
    "## Submitting\n",
    "\n",
    "* Copy your project's URL and submit it to freeCodeCamp."
   ]
  },
  {
   "cell_type": "code",
   "execution_count": null,
   "id": "0df3b5d6-b2ad-44f6-ac84-f48aba9f4df0",
   "metadata": {},
   "outputs": [],
   "source": []
  }
 ],
 "metadata": {
  "jupytext": {
   "cell_metadata_filter": "-all",
   "notebook_metadata_filter": "-all"
  },
  "kernelspec": {
   "display_name": "python_data_analysis",
   "language": "python",
   "name": "python_data_analysis"
  },
  "language_info": {
   "codemirror_mode": {
    "name": "ipython",
    "version": 3
   },
   "file_extension": ".py",
   "mimetype": "text/x-python",
   "name": "python",
   "nbconvert_exporter": "python",
   "pygments_lexer": "ipython3",
   "version": "3.12.3"
  },
  "widgets": {
   "application/vnd.jupyter.widget-state+json": {
    "state": {},
    "version_major": 2,
    "version_minor": 0
   }
  }
 },
 "nbformat": 4,
 "nbformat_minor": 5
}
