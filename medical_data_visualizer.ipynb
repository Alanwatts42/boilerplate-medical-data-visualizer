{
 "cells": [
  {
   "cell_type": "code",
   "execution_count": 3,
   "id": "372603b1",
   "metadata": {
    "lines_to_next_cell": 2
   },
   "outputs": [
    {
     "ename": "ModuleNotFoundError",
     "evalue": "No module named 'seaborn'",
     "output_type": "error",
     "traceback": [
      "\u001b[0;31m---------------------------------------------------------------------------\u001b[0m",
      "\u001b[0;31mModuleNotFoundError\u001b[0m                       Traceback (most recent call last)",
      "Cell \u001b[0;32mIn[3], line 2\u001b[0m\n\u001b[1;32m      1\u001b[0m \u001b[38;5;28;01mimport\u001b[39;00m \u001b[38;5;21;01mpandas\u001b[39;00m \u001b[38;5;28;01mas\u001b[39;00m \u001b[38;5;21;01mpd\u001b[39;00m\n\u001b[0;32m----> 2\u001b[0m \u001b[38;5;28;01mimport\u001b[39;00m \u001b[38;5;21;01mseaborn\u001b[39;00m \u001b[38;5;28;01mas\u001b[39;00m \u001b[38;5;21;01msns\u001b[39;00m\n",
      "\u001b[0;31mModuleNotFoundError\u001b[0m: No module named 'seaborn'"
     ]
    }
   ],
   "source": [
    "import pandas as pd\n",
    "import seaborn as sns"
   ]
  },
  {
   "cell_type": "code",
   "execution_count": null,
   "id": "dab3fb00",
   "metadata": {},
   "outputs": [],
   "source": [
    "# 1 - Import the data from medical_examination.csv and assign it to the df variable\n",
    "df = pd.read_csv('medical_examination.csv')"
   ]
  },
  {
   "cell_type": "code",
   "execution_count": null,
   "id": "7aa42411",
   "metadata": {},
   "outputs": [],
   "source": [
    "# 2 - Create the overweight column in the df variable\n",
    "df['overweight'] = (df['weight'] / (df['height'] / 100) ** 2).apply(lambda x: 1 if x > 25 else 0)"
   ]
  },
  {
   "cell_type": "markdown",
   "id": "8baf39a6",
   "metadata": {},
   "source": [
    "3 - Normalize data by making 0 always good and 1 always bad. If the value of cholesterol or gluc is 1, set the value to 0. If the value is more than 1, set the value to 1."
   ]
  },
  {
   "cell_type": "code",
   "execution_count": null,
   "id": "4e387d5e",
   "metadata": {
    "lines_to_next_cell": 1
   },
   "outputs": [],
   "source": [
    "df['cholesterol'] = df['cholesterol'].apply(lambda x: 0 if x == 1 else 1)\n",
    "df['gluc'] = df['gluc'].apply(lambda x: 0 if x == 1 else 1)"
   ]
  },
  {
   "cell_type": "code",
   "execution_count": null,
   "id": "2595ad14",
   "metadata": {},
   "outputs": [],
   "source": [
    "# 4 - Draw the Categorical Plot in the draw_cat_plot function\n",
    "def draw_cat_plot():\n",
    "      \n",
    "    # 5 - Create a DataFrame for the cat plot using pd.melt with values from cholesterol, gluc, smoke, alco, active, and overweight in the df_cat variable.\n",
    "    df_cat = pd.melt(data, id_vars = ['cardio'], value_vars = ['cholesterol', 'gluc', 'smoke', 'alco', 'active', 'overweight'])\n",
    "\n",
    "    # 6 - Group and reformat the data to split it by 'cardio'. Show the counts of each feature. You will have to rename one of the columns for the catplot to work correctly.\n",
    "    df_cat = df_cat.groupby(['cardio', 'variable', 'value'], as_index = False)\n",
    "\n",
    "                                \n",
    "    # 7 - Draw the catplot with 'sns.catplot()'\n",
    "    sns.catplot(data = df_cat, x = 'variable', y = None, hue = 'value', col = 'cardio', kind = 'bar')\n",
    "\n",
    "\n",
    "    # 8 - Get the figure for the output\n",
    "    fig = None\n",
    "\n",
    "    # 9 - Do not modify the next two lines\n",
    "    fig.savefig('catplot.png')\n",
    "    return fig"
   ]
  },
  {
   "cell_type": "code",
   "execution_count": null,
   "id": "9aa68ce8",
   "metadata": {},
   "outputs": [],
   "source": [
    "# 10 - Draw the Heat Map in the draw_heat_map function\n",
    "def draw_heat_map():\n",
    "    \n",
    "    \n",
    "    # 11 - Clean the data\n",
    "    df_heat = df[(df['ap_lo'] <= df['ap_hi']) & (df['height'] >= df['height'].quantile(0.025))]\n",
    "\n",
    "    # 12 - Calculate the correlation matrix\n",
    "    corr = df_heat.corr()\n",
    "\n",
    "    # 13 - Generate a mask for the upper triangle\n",
    "    mask = np.triu(corr)\n",
    "\n",
    "\n",
    "\n",
    "    # 14 - Set up the matplotlib figure\n",
    "    fig, ax = None\n",
    "\n",
    "    # 15 - Draw the heatmap with 'sns.heatmap()'\n",
    "\n",
    "\n",
    "\n",
    "    # 16 - Do not modify the next two lines\n",
    "    fig.savefig('heatmap.png')\n",
    "    return fig"
   ]
  },
  {
   "cell_type": "code",
   "execution_count": null,
   "id": "2863399c",
   "metadata": {},
   "outputs": [],
   "source": []
  },
  {
   "cell_type": "code",
   "execution_count": null,
   "id": "7822daea",
   "metadata": {},
   "outputs": [],
   "source": []
  }
 ],
 "metadata": {
  "jupytext": {
   "cell_metadata_filter": "-all",
   "notebook_metadata_filter": "-all"
  },
  "kernelspec": {
   "display_name": "Python 3 (ipykernel)",
   "language": "python",
   "name": "python3"
  },
  "language_info": {
   "codemirror_mode": {
    "name": "ipython",
    "version": 3
   },
   "file_extension": ".py",
   "mimetype": "text/x-python",
   "name": "python",
   "nbconvert_exporter": "python",
   "pygments_lexer": "ipython3",
   "version": "3.10.12"
  }
 },
 "nbformat": 4,
 "nbformat_minor": 5
}
